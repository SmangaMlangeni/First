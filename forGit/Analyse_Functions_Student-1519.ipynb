{
 "cells": [
  {
   "cell_type": "markdown",
   "metadata": {
    "colab_type": "text",
    "id": "91yHydRjEmqq"
   },
   "source": [
    "# Analyse : Predict\n",
    "\n",
    "Functions are important in reducing the replication of code as well as giving the user the functionality of getting an ouput on varying inputs. The functions you will write all use Eskom data/variables.\n",
    "\n",
    "For the predict, you will need to write 7 functions. These functions are:\n",
    "\n",
    "1. Metric Dictionary\n",
    "2. Five Number Summary Dictionary\n",
    "3. Date Parser\n",
    "4. Hashtag & Municipality Remover\n",
    "5. Number of Tweets per Day\n",
    "6. Word Splitter\n",
    "7. Stopwords & Link Remover\n"
   ]
  },
  {
   "cell_type": "code",
   "execution_count": 2,
   "metadata": {
    "colab": {},
    "colab_type": "code",
    "id": "Hmw-PmDMOPyQ"
   },
   "outputs": [],
   "source": [
    "import numpy as np\n",
    "import pandas as pd"
   ]
  },
  {
   "cell_type": "code",
   "execution_count": 3,
   "metadata": {
    "colab": {},
    "colab_type": "code",
    "id": "lS-1DpWNOUaR"
   },
   "outputs": [],
   "source": [
    "url = 'https://raw.githubusercontent.com/RidhaMoosa/eskom_data-/master/electrification_by_province.csv'\n",
    "ebp = pd.read_csv(url)\n",
    "\n",
    "for col, row in ebp.iloc[:,1:].iteritems():\n",
    "    ebp[col] = ebp[col].str.replace(',','').astype(int)\n",
    "\n",
    "limpopo = ebp['Limpopo'].to_list()\n",
    "limpopo = [float(x) for x in limpopo]\n",
    "\n",
    "mpumalanga = ebp['Mpumalanga'].to_list()\n",
    "mpumalanga = [float(x) for x in mpumalanga]\n",
    "\n",
    "north_west = ebp['North west'].to_list()\n",
    "north_west = [float(x) for x in north_west]\n",
    "\n",
    "free_state = ebp['Free State'].to_list()\n",
    "free_state = [float(x) for x in free_state]\n",
    "\n",
    "kwazulu_natal = ebp['Kwazulu Natal'].to_list()\n",
    "kwazulu_natal = [float(x) for x in kwazulu_natal]\n",
    "\n",
    "eastern_cape = ebp['Eastern Cape'].to_list()\n",
    "eastern_cape = [float(x) for x in eastern_cape]\n",
    "\n",
    "western_cape = ebp['Western Cape'].to_list()\n",
    "western_cape = [float(x) for x in western_cape]\n",
    "\n",
    "northern_cape = ebp['Northern Cape'].to_list()\n",
    "northern_cape = [float(x) for x in northern_cape]\n",
    "\n",
    "gauteng = ebp['Gauteng'].to_list()\n",
    "gauteng = [float(x) for x in gauteng]"
   ]
  },
  {
   "cell_type": "code",
   "execution_count": 4,
   "metadata": {
    "colab": {},
    "colab_type": "code",
    "id": "zkUMnbVNOfu2"
   },
   "outputs": [],
   "source": [
    "url = 'https://raw.githubusercontent.com/RidhaMoosa/eskom_data-/master/twitter_nov_2019.csv'\n",
    "twitter_df = pd.read_csv(url)\n",
    "\n",
    "dates = twitter_df['Date'].to_list()\n"
   ]
  },
  {
   "cell_type": "markdown",
   "metadata": {
    "colab_type": "text",
    "id": "fQL8b34-HThO"
   },
   "source": [
    "# Function 1: Metric Dictionary\n",
    "\n",
    "Write a function which takes in a list of integers and returns a dictionary of the mean, median, variance, standard deviation, min and max. Answers should be rounded to the second decimal.\n",
    "\n",
    "_**Expected Output**_:\n",
    "\n",
    "```python\n",
    "gauteng = [39660.0,\n",
    "            36024.0,\n",
    "            32127.0,\n",
    "            39488.0,\n",
    "            18422.0,\n",
    "            23532.0,\n",
    "            8842.0,\n",
    "            37416.0,\n",
    "            16156.0,\n",
    "            18730.0,\n",
    "            19261.0,\n",
    "            25275.0]\n",
    "\n",
    "dictionary_of_metrics(gauteng) == {'mean': 26244.42,\n",
    "                                   'median': 24403.5,\n",
    "                                   'variance': 108160153.17,\n",
    "                                   'standard deviation': 10400.01,\n",
    "                                   'min': 8842.0,\n",
    "                                   'max': 39660.0}\n",
    " ```"
   ]
  },
  {
   "cell_type": "code",
   "execution_count": 5,
   "metadata": {
    "colab": {},
    "colab_type": "code",
    "id": "w-2fY34IHQwO"
   },
   "outputs": [],
   "source": [
    "def dictionary_of_metrics(items):\n",
    "\n",
    "  ### Code Here\n",
    "\n",
    "  pass"
   ]
  },
  {
   "cell_type": "markdown",
   "metadata": {
    "colab_type": "text",
    "id": "rQIz0kjeJYYi"
   },
   "source": [
    "# Function 2: Five Number Summary\n",
    "\n",
    "Write a function which takes in a list of integers and returns a dictionary of the [five number summary.](https://www.statisticshowto.datasciencecentral.com/how-to-find-a-five-number-summary-in-statistics/) Answers should be rounded to the nearest second decimal.\n",
    "\n",
    "_**Expected Output:**_\n",
    "\n",
    "```python\n",
    "\n",
    "gauteng = [39660.0,\n",
    "            36024.0,\n",
    "            32127.0,\n",
    "            39488.0,\n",
    "            18422.0,\n",
    "            23532.0,\n",
    "            8842.0,\n",
    "            37416.0,\n",
    "            16156.0,\n",
    "            18730.0,\n",
    "            19261.0,\n",
    "            25275.0]\n",
    "\n",
    "five_num_summ(gauteng) == {'max': 39660.0,\n",
    "                           'median': 24403.5,\n",
    "                           'min': 8842.0,\n",
    "                           'q1': 18422.5,\n",
    "                           'q3': 36024.5}\n",
    "\n",
    "```"
   ]
  },
  {
   "cell_type": "code",
   "execution_count": 6,
   "metadata": {
    "colab": {},
    "colab_type": "code",
    "id": "uZUUmnL1JWFr"
   },
   "outputs": [],
   "source": [
    "def five_num_summ(items):\n",
    "\n",
    "  ### Code Here\n",
    "\n",
    "  pass"
   ]
  },
  {
   "cell_type": "markdown",
   "metadata": {
    "colab_type": "text",
    "id": "ETAOSB2oP9-Z"
   },
   "source": [
    "# Function 3: Date Parser\n",
    "\n",
    "Write a function which takes a list of datetime strings and converts it into a list of strings with only the date. \n",
    "<br>\n",
    "<br>\n",
    "_**Expected Output:**_\n",
    "\n",
    "```python\n",
    "\n",
    "dates = ['2019-11-29 12:50:54',\n",
    "         '2019-11-29 12:46:53',\n",
    "         '2019-11-29 12:46:10',\n",
    "         '2019-11-29 12:33:36',\n",
    "         '2019-11-29 12:17:43',\n",
    "         '2019-11-29 11:28:40']\n",
    "\n",
    "date_parser(dates) == ['2019-11-29',\n",
    "                       '2019-11-29',\n",
    "                       '2019-11-29',\n",
    "                       '2019-11-29',\n",
    "                       '2019-11-29',\n",
    "                       '2019-11-29']\n",
    "\n",
    "```"
   ]
  },
  {
   "cell_type": "code",
   "execution_count": 7,
   "metadata": {
    "colab": {},
    "colab_type": "code",
    "id": "-IA0CkEJNW_J"
   },
   "outputs": [],
   "source": [
    "def date_parser(list_dates):\n",
    "\n",
    "  ### Code Here\n",
    "\n",
    "  pass"
   ]
  },
  {
   "cell_type": "markdown",
   "metadata": {
    "colab_type": "text",
    "id": "W2GhFqo4SvD2"
   },
   "source": [
    "# Function 4: Municipality & Hashtag Remover\n",
    "\n",
    "Write a function which takes in a pandas dataframe and returns the same dataframe which is modified. The function should do the following:\n",
    "\n",
    "* Extract the municipality from a tweet using the dictonary given below into a new column in the same dataframe.\n",
    "* Extract the hashtag from a tweet into a new column in the same data frame.\n",
    "* The column headers should be \"municipality\" & \"hashtags\" respectively.\n",
    "* For those tweets which don't have the either a municipality nor a hashtag, fill it with ```np.nan```.\n",
    "\n",
    "Note: Only pandas and numpy packages may be used.\n",
    "\n",
    "```python\n",
    "\n",
    "municipality_dict = { '@CityofCTAlerts' : 'Cape Town',\n",
    "            '@CityPowerJhb' : 'Johannesburg',\n",
    "            '@eThekwiniM' : 'eThekwini' ,\n",
    "            '@EMMInfo' : 'Ekurhuleni',\n",
    "            '@centlecutility' : 'Mangaung',\n",
    "            '@NMBmunicipality' : 'Nelson Mandela Bay',\n",
    "            '@CityTshwane' : 'Tshwane'}\n",
    "\n",
    "```"
   ]
  },
  {
   "cell_type": "markdown",
   "metadata": {
    "colab_type": "text",
    "id": "ErK3jHb5W8dE"
   },
   "source": [
    "_**Expected Outputs:**_ \n",
    "\n",
    "```python\n",
    "\n",
    "extract_municipality_hashtags(twitter_df).iloc[:11, :10]\n",
    "\n",
    "```\n",
    "![image](https://github.com/RidhaMoosa/eskom_data-/blob/master/function4.png?raw=true)"
   ]
  },
  {
   "cell_type": "code",
   "execution_count": 5,
   "metadata": {},
   "outputs": [
    {
     "name": "stdout",
     "output_type": "stream",
     "text": [
      "@IamGladstone @CityPowerJhb @HermanMashaba The outage is due to cable theft. Technicians dispatched to site. No ETR..\n"
     ]
    }
   ],
   "source": [
    "print(twitter_df['Tweets'][5])"
   ]
  },
  {
   "cell_type": "code",
   "execution_count": 8,
   "metadata": {
    "colab": {},
    "colab_type": "code",
    "id": "9TEUIY_qCSYG"
   },
   "outputs": [],
   "source": [
    "def extract_municipality_hashtags(df):\n",
    "\n",
    "  ### Code Here\n",
    "\n",
    "  pass"
   ]
  },
  {
   "cell_type": "markdown",
   "metadata": {
    "colab_type": "text",
    "id": "uSuzSIc7_VUh"
   },
   "source": [
    "# Function 5: Number of Tweets per Day\n",
    "\n",
    "Write a function which calculates the number of tweets that were posted per day. \n",
    "\n",
    "This function should take in a pandas dataframe and return a new dataframe with columns \"```Date```\" & \"```Number of Tweets```\"\n",
    "\n",
    "Note: Only pandas and numpy may be used.\n",
    "\n",
    "_**Expected Output:**_\n",
    "\n",
    "```python\n",
    "\n",
    "number_of_tweets_per_day(twitter_df)\n",
    "\n",
    "```\n",
    "\n",
    "![function5](https://github.com/RidhaMoosa/eskom_data-/blob/master/function5.png?raw=True)"
   ]
  },
  {
   "cell_type": "code",
   "execution_count": 5,
   "metadata": {},
   "outputs": [
    {
     "name": "stdout",
     "output_type": "stream",
     "text": [
      "0\t2019-11-29\t16\n",
      "1\t2019-11-28\t32\n",
      "2\t2019-11-27\t13\n",
      "3\t2019-11-26\t32\n",
      "4\t2019-11-25\t20\n",
      "5\t2019-11-24\t14\n",
      "6\t2019-11-23\t19\n",
      "7\t2019-11-22\t25\n",
      "8\t2019-11-21\t11\n",
      "9\t2019-11-20\t18\n"
     ]
    }
   ],
   "source": [
    "dates = []\n",
    "\n",
    "for index, row in twitter_df.iterrows():\n",
    "    dates.append(row['Date'].split(' ')[0])\n",
    "    \n",
    "dates_count = []\n",
    "count = []\n",
    "for i in dates:\n",
    "    if i in dates_count:\n",
    "        continue\n",
    "    else:\n",
    "        count.append(dates.count(i))\n",
    "        dates_count.append(i)\n",
    "        \n",
    "for index in range(len(dates_count)):\n",
    "    print(str(index)+\"\\t\"+str(dates_count[index])+\"\\t\"+str(count[index]))   "
   ]
  },
  {
   "cell_type": "code",
   "execution_count": 7,
   "metadata": {
    "colab": {},
    "colab_type": "code",
    "id": "G9Vo6QoAW6nm"
   },
   "outputs": [],
   "source": [
    "def number_of_tweets_per_day(df):\n",
    "\n",
    "  ### Code Here\n",
    "\n",
    "  pass"
   ]
  },
  {
   "cell_type": "markdown",
   "metadata": {
    "colab_type": "text",
    "id": "3Wye_CrLFSgS"
   },
   "source": [
    "# Function 6: Word Splitter\n",
    "\n",
    "Write a function which splits a sentence into a list of the separate words. This is also known as [tokenization](https://www.geeksforgeeks.org/nlp-how-tokenizing-text-sentence-words-works/).\n",
    "\n",
    "The function should take in a dataframe and return a data with a new column \"```Split Tweets```\". Words should also all be lowercase.\n",
    "\n",
    "Note: Only pandas and numpy packages may be used.\n",
    "<br>\n",
    "<br>\n",
    "_**Expected Output**_:\n",
    "\n",
    "```python\n",
    "\n",
    "word_spliter(twitter_df) \n",
    "\n",
    "```\n",
    "\n",
    "![Function6](https://github.com/RidhaMoosa/eskom_data-/blob/master/Function6.png?raw=true)"
   ]
  },
  {
   "cell_type": "code",
   "execution_count": 12,
   "metadata": {},
   "outputs": [
    {
     "name": "stdout",
     "output_type": "stream",
     "text": [
      "<class 'str'>\n",
      "<class 'str'>\n",
      "<class 'str'>\n",
      "<class 'str'>\n",
      "<class 'str'>\n",
      "<class 'str'>\n",
      "<class 'str'>\n",
      "<class 'str'>\n",
      "<class 'str'>\n",
      "<class 'str'>\n",
      "<class 'str'>\n",
      "<class 'str'>\n",
      "<class 'str'>\n",
      "<class 'str'>\n",
      "<class 'str'>\n",
      "<class 'str'>\n",
      "<class 'str'>\n",
      "<class 'str'>\n",
      "<class 'str'>\n",
      "<class 'str'>\n",
      "<class 'str'>\n",
      "<class 'str'>\n",
      "<class 'str'>\n",
      "<class 'str'>\n",
      "<class 'str'>\n",
      "<class 'str'>\n",
      "<class 'str'>\n",
      "<class 'str'>\n",
      "<class 'str'>\n",
      "<class 'str'>\n",
      "<class 'str'>\n",
      "<class 'str'>\n",
      "<class 'str'>\n",
      "<class 'str'>\n",
      "<class 'str'>\n",
      "<class 'str'>\n",
      "<class 'str'>\n",
      "<class 'str'>\n",
      "<class 'str'>\n",
      "<class 'str'>\n",
      "<class 'str'>\n",
      "<class 'str'>\n",
      "<class 'str'>\n",
      "<class 'str'>\n",
      "<class 'str'>\n",
      "<class 'str'>\n",
      "<class 'str'>\n",
      "<class 'str'>\n",
      "<class 'str'>\n",
      "<class 'str'>\n",
      "<class 'str'>\n",
      "<class 'str'>\n",
      "<class 'str'>\n",
      "<class 'str'>\n",
      "<class 'str'>\n",
      "<class 'str'>\n",
      "<class 'str'>\n",
      "<class 'str'>\n",
      "<class 'str'>\n",
      "<class 'str'>\n",
      "<class 'str'>\n",
      "<class 'str'>\n",
      "<class 'str'>\n",
      "<class 'str'>\n",
      "<class 'str'>\n",
      "<class 'str'>\n",
      "<class 'str'>\n",
      "<class 'str'>\n",
      "<class 'str'>\n",
      "<class 'str'>\n",
      "<class 'str'>\n",
      "<class 'str'>\n",
      "<class 'str'>\n",
      "<class 'str'>\n",
      "<class 'str'>\n",
      "<class 'str'>\n",
      "<class 'str'>\n",
      "<class 'str'>\n",
      "<class 'str'>\n",
      "<class 'str'>\n",
      "<class 'str'>\n",
      "<class 'str'>\n",
      "<class 'str'>\n",
      "<class 'str'>\n",
      "<class 'str'>\n",
      "<class 'str'>\n",
      "<class 'str'>\n",
      "<class 'str'>\n",
      "<class 'str'>\n",
      "<class 'str'>\n",
      "<class 'str'>\n",
      "<class 'str'>\n",
      "<class 'str'>\n",
      "<class 'str'>\n",
      "<class 'str'>\n",
      "<class 'str'>\n",
      "<class 'str'>\n",
      "<class 'str'>\n",
      "<class 'str'>\n",
      "<class 'str'>\n",
      "<class 'str'>\n",
      "<class 'str'>\n",
      "<class 'str'>\n",
      "<class 'str'>\n",
      "<class 'str'>\n",
      "<class 'str'>\n",
      "<class 'str'>\n",
      "<class 'str'>\n",
      "<class 'str'>\n",
      "<class 'str'>\n",
      "<class 'str'>\n",
      "<class 'str'>\n",
      "<class 'str'>\n",
      "<class 'str'>\n",
      "<class 'str'>\n",
      "<class 'str'>\n",
      "<class 'str'>\n",
      "<class 'str'>\n",
      "<class 'str'>\n",
      "<class 'str'>\n",
      "<class 'str'>\n",
      "<class 'str'>\n",
      "<class 'str'>\n",
      "<class 'str'>\n",
      "<class 'str'>\n",
      "<class 'str'>\n",
      "<class 'str'>\n",
      "<class 'str'>\n",
      "<class 'str'>\n",
      "<class 'str'>\n",
      "<class 'str'>\n",
      "<class 'str'>\n",
      "<class 'str'>\n",
      "<class 'str'>\n",
      "<class 'str'>\n",
      "<class 'str'>\n",
      "<class 'str'>\n",
      "<class 'str'>\n",
      "<class 'str'>\n",
      "<class 'str'>\n",
      "<class 'str'>\n",
      "<class 'str'>\n",
      "<class 'str'>\n",
      "<class 'str'>\n",
      "<class 'str'>\n",
      "<class 'str'>\n",
      "<class 'str'>\n",
      "<class 'str'>\n",
      "<class 'str'>\n",
      "<class 'str'>\n",
      "<class 'str'>\n",
      "<class 'str'>\n",
      "<class 'str'>\n",
      "<class 'str'>\n",
      "<class 'str'>\n",
      "<class 'str'>\n",
      "<class 'str'>\n",
      "<class 'str'>\n",
      "<class 'str'>\n",
      "<class 'str'>\n",
      "<class 'str'>\n",
      "<class 'str'>\n",
      "<class 'str'>\n",
      "<class 'str'>\n",
      "<class 'str'>\n",
      "<class 'str'>\n",
      "<class 'str'>\n",
      "<class 'str'>\n",
      "<class 'str'>\n",
      "<class 'str'>\n",
      "<class 'str'>\n",
      "<class 'str'>\n",
      "<class 'str'>\n",
      "<class 'str'>\n",
      "<class 'str'>\n",
      "<class 'str'>\n",
      "<class 'str'>\n",
      "<class 'str'>\n",
      "<class 'str'>\n",
      "<class 'str'>\n",
      "<class 'str'>\n",
      "<class 'str'>\n",
      "<class 'str'>\n",
      "<class 'str'>\n",
      "<class 'str'>\n",
      "<class 'str'>\n",
      "<class 'str'>\n",
      "<class 'str'>\n",
      "<class 'str'>\n",
      "<class 'str'>\n",
      "<class 'str'>\n",
      "<class 'str'>\n",
      "<class 'str'>\n",
      "<class 'str'>\n",
      "<class 'str'>\n",
      "<class 'str'>\n",
      "<class 'str'>\n",
      "<class 'str'>\n",
      "<class 'str'>\n",
      "<class 'str'>\n",
      "[['@BongaDlulane', 'Please', 'send', 'an', 'email', 'to', 'mediadesk@eskom.co.za'], ['@saucy_mamiie', 'Pls', 'log', 'a', 'call', 'on', '0860037566'], ['@BongaDlulane', 'Query', 'escalated', 'to', 'media', 'desk.'], ['Before', 'leaving', 'the', 'office', 'this', 'afternoon,', 'heading', 'off', 'into', 'the', 'weekend,', 'remember', 'to', 'switch', 'off', 'lights', '&amp;', 'electrical…', 'https://t.co/Jug75zddaF'], ['#ESKOMFREESTATE', '#MEDIASTATEMENT', ':', 'ESKOM', 'SUSPENDS', 'PLANNED', 'ELECTRICITY', 'SUPPLY', 'INTERRUPTIONS', 'TO', '\\nMANGAUNG', 'METROPOLITAN…', 'https://t.co/MtBo6gjcte'], ['@IamGladstone', '@CityPowerJhb', '@HermanMashaba', 'The', 'outage', 'is', 'due', 'to', 'cable', 'theft.', 'Technicians', 'dispatched', 'to', 'site.', 'No', 'ETR..'], ['RT', '@Exposcience:', '#FridayMotivation', '#EskomExpoISF', 'Eskom', 'Expo', 'for', 'Young', 'Scientists', 'in', 'Gauteng', 'hosted', 'a', 'science', 'camp', 'at', 'Jiyana', 'Secondary', 'Schoo…'], ['#EskomMpumalanga', 'hosted', 'a', 'Supplier', 'Development', 'and', 'Localisation', 'workshop', 'in', 'Eerstehoek', 'where', '18', 'local', 'business', 'owne…', 'https://t.co/bYugbjn1Ko'], ['@maxon_hadebe', '@CityofJoburgZA', 'Please', 'log', 'a', 'call', 'on', 'MyEskom', 'Customer', 'App', 'https://t.co/99xBTCodMz', '.', 'The', 'app', 'provides', 'a', 'reference', 'number.'], ['@Magudulela_M', 'Hi,', '', 'Please', 'log', 'a', 'call', 'on', 'MyEskom', 'Customer', 'App', 'https://t.co/99xBTCodMz', '.', 'The', 'app', 'provides', 'a', 'reference', 'number.'], ['RT', '@Exposcience:', '#FridayThoughts', 'Norman', 'Mashiri', 'from', 'Dr', 'Joseph', 'Shabalala', 'School', 'received', 'the', 'top', 'ICT', 'project', 'award', 'from', '@SiemensAfrica', 'in', 'p…'], ['@Magudulela_M', 'Please', 'report', 'your', 'issue', 'to', 'our', 'Customer', 'Services', 'Centre', 'via', 'one', 'of', 'the', 'following', 'channels', '0860037566…', 'https://t.co/WJrPE6rYpn'], ['@maxon_hadebe', '@CityofJoburgZA', 'Please', 'report', 'your', 'issue', 'to', 'our', 'Customer', 'Services', 'Centre', 'via', 'one', 'of', 'the', 'following', 'cha…', 'https://t.co/3eedDrTuc4'], ['#EskomNorthWest', 'Supplier', 'Development', 'and', 'Localisation', '(SDL)', 'Department', 'engaged', 'up', 'and', 'coming', 'entrepreneurs', 'from', 'Mah…', 'https://t.co/qU2gPvzCmP'], ['RT', '@EskomFoundation:', 'Co-founder', '&amp;', 'CEO', 'of', '@LamoSolar,', 'which', 'installs', 'solar', 'power', 'systems', 'in', 'rural', 'communities,', '@tshibvumo_s', 'joined', 'the', 'Engin…'], ['#POWERALERT', '1\\nDate:', '29', 'November', '2019\\n\\nNo', 'loadshedding', 'expected', 'today,', 'despite', 'a', 'constrained', 'and', 'vulnerable', 'system', 'https://t.co/1uY3251eGJ'], ['#ESKOMFREESTATE', '#MEDIASTATEMENT\\n\\nRESPONSE', 'TO', 'MANGAUNG', 'METRO’S', 'STATEMENT', 'ON', 'THE', 'OUTCOME', 'OF', '\\nTHE', 'MEETING', 'BETWEEN', 'ESKO…', 'https://t.co/lFQ3YparJK'], ['It', 'is', 'a', 'criminal', 'offence', 'to', 'break', 'or', 'steal', 'covers', 'of', 'meter', 'boxes,', 'sub-stations', 'or', 'other', 'Eskom', 'property.', '', 'Making', 'con…', 'https://t.co/y6lug0Ju4b'], ['RT', '@CityPowerJhb:', '#RandburgOutage', 'City', 'Power', 'is', 'currently', 'experiencing', 'power', 'outage', 'in', 'Greater', 'Randburg.', 'Affecting:\\nCresta', '\\nDarrenwood\\nWind…'], ['#EskomGauteng', '#PowerOutage', '-', 'Sandton', 'area\\n\\nEskom', 'customers', 'in', 'Sandton', 'and', 'surrounding', 'areas', 'are', 'experiencing', 'a', 'powe…', 'https://t.co/7mWMdEqhVd'], ['RT', '@EngNewsZA:', '[WATCH]:\\xa0', '@Eskom_SA', 'Announces', 'Interim', 'Results', 'for', 'the', 'six', 'months', 'to', '30', 'September', '2019', '|', '#Eskom', 'https://t.co/7SB9woD0K3'], ['RT', '@EngNewsZA:', '[PART', '3]:\\xa0', '@Eskom_SA', 'Announces', 'Interim', 'Results', 'for', 'the', 'six', 'months', 'to', '30', 'September', '2019', '|', '#Eskom', 'https://t.co/WlX9B5mq0a'], ['RT', '@EngNewsZA:', '[PART', '2]:\\xa0', '@Eskom_SA', 'Announces', 'Interim', 'Results', 'for', 'the', 'six', 'months', 'to', '30', 'September', '2019', '|', '#Eskom', 'https://t.co/QdmiUTsnrN'], ['Eskom', 'group', 'interim', 'results', 'for', 'the', 'six', 'months', 'ended', '30', 'September', '2019', 'presentation', 'by', 'Eskom', 'CFO,', 'Calib', 'Cassim…', 'https://t.co/scqwUcM1W6'], ['#EskomMediaStatement', ':', 'Eskom', 'results', 'indicate', 'some', 'positive', 'financial', 'performance', 'for', 'the', 'first', 'half', 'of', 'the', 'year,', 'a…', 'https://t.co/zZMEmTotxa'], ['#JabuMabuza', ':', 'While', 'a', 'net', 'profit', 'of', 'R1.3', 'billion', 'was', 'realised', 'by', 'September,', 'a', 'R20', 'billion', 'loss', 'is', 'projected', 'by', 'year…', 'https://t.co/9otWn8KhT5'], ['#JabuMabuza', ':', 'While', 'we', 'continue', 'to', 'face', 'operational', 'and', 'financial', 'challenges,', 'for', 'the', 'interim', 'reporting', 'period', 'endi…', 'https://t.co/fVSOHBXJjn'], ['In', 'view', 'of', 'the', 'arrear', 'debt', 'by', 'municipalities', 'and', 'individual', 'users,', 'which', 'continues', 'to', 'escalate,', 'it', 'is', 'encouraging', 't…', 'https://t.co/ni8GpGQvLW'], ['Eskom', 'requires', 'a', 'cost-reflective', 'tariff', 'increase.', 'It', 'is', 'for', 'this', 'reason', 'that', 'we', 'are', 'challenging', 'Nersa’s', 'recent', 'tari…', 'https://t.co/oqbQRlJqcC'], ['Of', 'equal', 'importance', 'is', 'the', 'approval', 'by', 'government', 'of', 'the', 'Special', 'Appropriation', 'Act', 'which', 'will', 'provide', 'for', 'governmen…', 'https://t.co/woh7dxGHhi'], ['The', 'office', 'of', 'the', 'CRO', 'has', 'been', 'set', 'up', 'to', 'work', 'with', 'govt', 'in', 'finding', 'a', 'sustainable', 'solution', 'to', 'our', 'debt', 'problems.', 'We…', 'https://t.co/p466rxeFxq'], ['The', 'appointment', 'of', 'the', 'GCE', 'of', 'Eskom', 'brings', 'further', 'leadership', 'stability', 'to', 'our', 'business', 'and', 'enables', 'us', 'to', 'advance', 't…', 'https://t.co/nVmEx909UV'], ['-', 'The', 'approval', 'and', 'launching', 'of', 'the', 'Special', 'Paper', 'on', 'Eskom', 'have', 'set', 'the', 'tone', 'for', 'the', 'restructure', 'of', 'Eskom', 'within', 'a…', 'https://t.co/WrdPwErPn1'], ['-', 'The', 'promulgation', 'of', 'the', 'Integrated', 'Resource', 'Plan', '(IRP)', 'set', 'the', 'base', 'for', 'much-needed', 'policy', 'direction', 'in', 'the', 'futur…', 'https://t.co/crpcb7QguH'], ['#JabuMabuza:', 'Since', 'we', 'shared', 'our', 'annual', 'results', 'in', 'July,', 'there', 'have', 'been', 'some', 'notable', 'developments', 'and', 'key', 'mileston…', 'https://t.co/N0DTlrHapQ'], ['#JabuMabuza:', 'We', 'always', 'endeavour', 'to', 'keep', 'our', 'stakeholders', 'and', 'fellow', 'South', 'Africans', 'reliably', 'informed', 'about', 'our', 'bus…', 'https://t.co/d1FIDsCfLO'], ['RT', '@Eskom_SA:', 'Eskom', 'customers', 'are', 'requested', 'to', 'log', 'a', 'service', 'request', 'call', 'on', 'MyEskom', 'Customer', 'App', 'https://t.co/99xBTCodMz', '', '.', 'The', 'app', 'provid…'], ['RT', '@OverstrandMuni:', 'We', 'are', 'currently', 'experiencing', 'a', 'power', 'outage', 'in', 'PEARLY', 'BEACH', 'due', 'to', 'a', 'cable', 'fault.', '\\nPower', 'is', 'estimated', 'to', 'be', 'restored', 'a…'], ['RT', '@CityPowerJhb:', 'UPDATE:', 'Hopefield', 'Distributor', 'tripped,', 'Affected', 'area:', 'Lawley', '2', 'and', 'surrounding,', 'Technicians', 'are', 'dispatched', 'to', 'work', 'on', 'res…'], ['RT', '@CityPowerJhb:', 'UPDATE:', 'Distributor', 'supplying', 'Westbury', 'North', 'tripped,', 'Affected', 'areas:', 'Westbury', 'Ext.2\\nWestbury', 'Ext.3\\nNewclare\\nWestbury', 'and…'], ['RT', '@EskomFoundation:', 'As', 'we', 'get', 'closer', 'to', 'announcing', 'the', '#EskomBIC', 'winner,', 'we', \"can't\", 'help', 'but', 'reminisce', 'about', 'The', 'forum', 'we', 'hosted', 'early', 'last…'], ['RT', '@CityPowerJhb:', '#NoorwykPlannedOutage', 'in', 'progress', 'until', '17h00.', 'Crescent', 'Wood', 'Estate', 'is', 'affected.', 'We', 'apologise', 'for', 'any', 'inconvenience', 'cause…'], ['RT', '@CityPowerJhb:', '#WestfieldPlannedOutage', 'in', 'progress', '', 'until', '16:00.', 'Please', 'note', \"it's\", 'necessary', 'to', 'do', 'essential', 'to', 'do', 'maintenance', 'work', 'on', 'ou…'], ['RT', '@CityPowerJhb:', 'UPDATE:', '#GresswoldOutage', 'Bramley', 'Gardens', 'distributor', 'tripped,', 'Causing', 'a', 'total', 'loss', 'of', '', 'supply', 'in:\\nBramely', 'Park\\nWynberg\\nBr…'], ['RT', '@Exposcience:', 'The', 'SKA,', 'funded', 'by', '13', 'nations', 'from', 'around', 'the', 'world,', 'will', 'eventually', 'consist', 'of', 'thousands', 'of', 'dishes', 'scattered', 'across', 'south…'], ['#EskomGauteng:Update', 'Sandton', 'Outage\\n\\nSupply', 'has', 'been', 'restored', 'in', 'Sandown,', 'Parkmore', '&amp;', 'surrounding', 'areas.', 'If', 'your', 'pow…', 'https://t.co/TI2PJc4xGJ'], ['Happening', 'today:', 'Eskom', 'to', 'present', 'interim', 'results', 'for', 'six', 'months', 'ended', '30', 'September', '2019', 'https://t.co/pgcsvtg7pg'], ['#POWERALERT', '1\\nDate:', '28', 'November', '2019\\n\\nNo', 'loadshedding', 'expected', 'today,', 'despite', 'a', 'constrained', 'and', 'vulnerable', 'system', 'https://t.co/Y0HtjQk2vI'], ['@Pj_MOSES', '@CityPowerJhb', '@PJ_Moses', 'Eskom', 'is', 'working', 'on', 'the', 'fault', 'affecting', 'Parkmore.', 'We', 'still', \"don't\", 'have', 'an', 'ETR', 'at', 't…', 'https://t.co/9lbI0mIFHy'], ['RT', '@Exposcience:', 'Eskom', 'Expo', 'for', 'Young', 'Scientists', 'in', 'Gauteng', 'hosts', 'a', 'science', 'camp', 'at', 'Jiyana', 'Secondary', 'School', 'in', 'Tembisa', 'today,', 'and', 'will', 'move…'], ['How', 'to', 'contact', '#Eskom', 'for', 'service:', 'https://t.co/rqEWV3k7OC', 'https://t.co/oQHyIUgyca'], ['Eskom', 'wishes', 'to', 'warn', 'the', 'public', 'about', 'recruitment', 'scams.', 'Eskom', 'vacancies', 'are', 'advertised', 'on', 'our', 'website…', 'https://t.co/AEyyNYzKKm'], ['@SAWeatherServic', 'has', 'issued', 'advisory', 'alerts', 'for', 'a', 'heatwave', 'with', 'persistently', 'high', 'temperatures', 'expected', 'in', 'Limpopo,…', 'https://t.co/SDJbraHTo8'], ['#EskomGauteng:', 'Rivonia', 'outage\\n\\nCustomers', 'in', 'Kudu', 'Crescent', 'and', 'Eland', 'Crescent', 'are', 'currently', 'experiencing', 'a', 'power', 'sup…', 'https://t.co/Vn8EY2PAvU'], ['@plussizewomenSA', '@JacksonMthembu_', '@lelo_taka', 'Good', 'day,', 'pls', 'send', 'us', 'a', 'reference', 'number', 'so', 'that', 'we', 'can', 'follow', 'up.', '', 'If…', 'https://t.co/t35lNfTyHE'], ['RT', '@Exposcience:', '#WednesdayWisdom', '#EskomExpoISF', 'Joshua', 'Sylvain', 'de', 'Miranda', 'from', 'Tyger', 'Valley', 'College', 'represented', 'SA', 'at', '#OKSEF', 'in', 'Turkey', 'in', 'J…'], ['@No_H_in_Ismail', 'Your', 'query', 'has', 'been', 'escalated', 'to', 'CS.'], ['Do', 'not', 'interfere', 'with', 'or', 'vandalise', 'Eskom', 'property.', 'Report', 'vandalism', 'to', 'Eskom', 'on', '08600', '37566', '(ESKOM)', 'or', '@CrimeLineZA…', 'https://t.co/ISVH53Vld6'], ['Here', 'are', 'some', 'tips', 'on', 'how', 'to', 'save', 'electricity', '(and', 'costs)', 'during', 'summer', 'https://t.co/A8z6qrxqtm'], ['#EskomGauteng', '#PowerOutage', '', 'Sandton', 'area\\n\\nEskom', 'customers', 'in', 'Sandown', 'and', '', 'surrounding', 'areas', 'are', 'experiencing', 'a', 'powe…', 'https://t.co/HDQgMosM7i'], ['#PowerAlert', '1\\n\\nDate:', '27', 'November', '2019\\n\\nNo', 'loadshedding', 'expected', 'today,', 'despite', 'a', 'constrained', 'and', 'vulnerable', 'system…', 'https://t.co/wComZnYNsM'], ['#UseElectricitySmartly', 'and', 'lighten', 'the', 'load', 'in', 'your', 'living', 'rooms', 'and', 'bedrooms', 'with', 'these', 'energy', 'efficiency', 'tips', '👇🏽👇🏽', 'https://t.co/84NQolQNnD'], ['@ElaineJack888', 'Call', 'escalated', 'to', 'Customer', 'Services'], ['@Sandton_News', '@CityPowerJhb', '@SAPoliceService', 'We', 'can', 'confirm', 'that', 'a', 'man', 'was', 'electrocuted', 'while', 'allegedly', 'tampering', 'w…', 'https://t.co/iRD60N91gZ'], ['#ChooseDay', '\\n\\n#SkaBaiza,', 'say', 'NO', 'to', 'unsafe', 'electrical', 'practices.', 'https://t.co/RoMRVnwBb4'], ['#Eskom_MediaStatement', ':', 'Eskom', 'Medupi', 'Unit', '2', 'achieves', 'commercial', 'operation.\\n\\n@IOL', '@ewnupdates', '@SAfmnews', '@SowetanLIVE…', 'https://t.co/5JOJdlkCYS'], ['President', '@CyrilRamaphosa', 'signs', 'the', 'certificate', 'for', 'the', 'Commercialization', 'of', 'Unit', '2', 'of', 'Medupi', 'Power', 'Plant.', 'https://t.co/eEnvpnvCpF'], ['#EskomNorthWest', 'to', 'conduct', 'an', 'interactive', 'presentation', 'on', '\"How', 'to', 'do', 'business', 'with', 'Eskom\".', 'See', 'below', 'invitation', '👇👇👇', 'https://t.co/UKfwi1dykz'], ['@mashiyanef', 'Thanks.'], ['RT', '@GwedeMantashe1:', 'Viva', 'to', 'the', 'workers', 'at', 'the', 'Medupi', 'Power', 'Station.', '#InvestinSAEnergy', '#Khawuleza', '@Eskom_SA', 'https://t.co/WhRoX74e9r'], ['RT', '@GwedeMantashe1:', '\"Coal', 'will', 'continue', 'playing', 'a', 'critical', 'role', 'in', 'Energy', 'generation', 'for', 'our', 'country.', 'SA', 'has', 'enough', 'coal', 'for', 'years', 'to', 'come.…'], ['RT', '@SAgovnews:', 'He', 'announces', 'that', '#MedupiPowerPlant’s', 'Unit', '2', 'has', 'this', 'morning', 'been', 'commissioned.', 'Unit', '1,', 'he', 'adds,', 'will', 'be', 'commissioned', 'early…'], ['@mashiyanef', 'Hi,', 'please', 'forward', 'us', 'your', 'reference', 'number', 'and', 'we', 'will', 'follow-up.'], ['RT', '@SAgovnews:', 'He', 'says', 'it', 'is', 'great', 'to', 'see', 'that', 'there', 'are', 'many', 'women', 'workers', 'at', 'the', 'plant.', 'He', 'says', 'they', 'are', 'not', 'just', 'workers,', 'but', 'are', 'also', 'i…'], ['RT', '@SAgovnews:', 'I', 'want', 'to', 'repeat:', 'we', 'are', 'not', 'privatizing', '@Eskom_SA,', 'we’ll', 'just', 'make', 'it', 'operate', 'better', 'so', 'it', 'can', 'be', 'in', 'line', 'with', 'times', 'and', 'co…'], ['RT', '@SAgovnews:', 'The', 'President', 'begins', 'his', 'address', 'by', 'honouring', 'the', 'workers', 'at', 'the', 'plant,', 'he', 'says', 'their', 'contribution', 'is', 'recognized.', '“You', 'have…'], ['RT', '@GwedeMantashe1:', '\"We', 'are', 'not', 'going', 'to', 'privatise', '@Eskom_SA.', 'We', 'are', 'not', 'going', 'to', 'sell', 'Eskom.', 'Eskom', 'will', 'continue', 'being', 'owned', 'by', 'our', 'govern…'], ['RT', '@GCISMedia:', '#Khawuleza', 'President', 'Ramaphosa:', 'Eskom', 'is', 'too', 'important', 'to', 'the', 'life', 'of', 'our', 'country.@GovernmentZA', '@SAgovnews', '@LimpopoGcis'], ['RT', '@GCISMedia:', '#Khawuleza', 'President', 'Ramaphosa:', 'Government', 'will', 'continue', 'to', 'support', 'Eskom.', '@GovernmentZA', 'gov', '@SAgovnews', '@LimpopoGcis'], ['RT', '@SAgovnews:', '“We', 'are', 'not', 'going', 'to', 'privatize', 'Eskom.', 'We', 'are', 'not', 'going', 'to', 'sell', 'Eskom.', 'It’s', 'like', 'selling', 'your', 'family,', 'we', 'are', 'not', 'going', 'to', 'do…'], ['RT', '@SAgovnews:', 'President', '@CyrilRamaphosa', 'has', 'arrived', 'at', 'the', 'venue.', 'He', 'is', 'accompanied', 'by', '@DPE_ZA', 'Minister', 'Pravin', 'Gordhan', 'and', '@Eskom_SA', 'Chair…'], ['President', '@CyrilRamaphosa', 'addressing', 'Medupi', 'Power', 'Station', 'employees', 'https://t.co/YkqmzEzVpz'], ['RT', '@CyrilRamaphosa:', 'Visit', 'to', 'Medupi', 'Power', 'Station', '#Eskom', '', 'https://t.co/R2DPMRqdtD'], ['RT', '@GCISMedia:', 'Thousands', 'of', 'Medupi', 'employees', 'gathered', 'at', 'Medupi', 'power', 'station', 'where', 'President', 'Cyril', 'Ramaphosa', 'will', 'address', 'them.#Khawuleza…'], ['RT', '@JacksonMthembu_:', 'This', 'morning', 'we', 'visited', 'Eskom’s', 'Medupi', 'Power', 'Station', 'in', 'Lephalale', 'with', 'President', 'Ramaphosa', '&amp;', 'Minister', 'of', 'Public', 'Enterp…'], ['RT', '@GCISMedia:', 'President', 'Cyril', 'Ramaphosa', 'is', 'addressing', 'members', 'of', 'the', 'media', 'at', 'the', 'handover', '(commercial', 'operation)', 'of', 'unit', '2', 'at', 'Medupi', 'powe…'], ['RT', '@CyrilRamaphosa:', 'Visit', 'to', 'Medupi', 'Power', 'Station', '#Khawuleza', '', 'https://t.co/nwi0KIKTSK'], ['RT', '@GovernmentZA:', 'President', 'Cyril', 'Ramaphosa', 'received', 'by', 'Minister', 'of', 'Public', 'Enterprises,', '', 'Pravin', 'Gordhan,', 'Limpopo', 'Premier', '', 'Stanley', 'Mathabath…'], ['RT', '@GCISMedia:', 'President', 'Cyril', 'Ramaphosa', 'arrived', 'at', 'Medupi', 'power', 'station', 'for', 'the', 'tour', 'ahead', 'of', 'the', 'launch', 'of', 'District', 'Development', 'Model', '#Kh…'], ['RT', '@GCISMedia:', '#Khawuleza', 'President', 'Ramaphosa', 'will', 'also', 'today,', '26', 'November', '2019', 'visit', 'the', 'Eskom’s', 'Medupi', 'Power', 'Station', 'where', 'he', 'will', 'receiv…'], ['RT', '@SAgovnews:', 'President', '@CyrilRamaphosa', 'is', 'this', 'morning', 'at', 'Eskom’s', 'flagship', 'Medupi', 'power', 'station.', 'He', 'will', 'tour', 'the', 'plant', 'and', 'later', 'address…'], ['RT', '@MikeMaringa:', 'President', 'Ramaphosa', 'will', 'this', 'morning', 'go', 'on', 'a', 'site', 'inspection', 'at', 'the', 'Medupi', 'Power', 'station', 'and', 'later', 'address', 'workers.', '#SABC…'], ['#PowerAlert', '1\\n\\nDate:', '26', 'November', '2019\\n\\nNo', 'loadshedding', 'expected', 'today,', 'despite', 'a', 'constrained', 'and', 'vulnerable', 'system…', 'https://t.co/ZwCoPR7Q8b'], ['#EskomKZN', 'GM,', 'Agnes', 'Mlambo', '(top', 'left)', 'urged', 'contractors', 'to', 'work', 'safely', 'and', 'ethically', 'during', 'the', 'annual', 'Contractors…', 'https://t.co/h14fJ6GQpC'], ['Eskom', 'customers', 'are', 'requested', 'to', 'log', 'a', 'service', 'request', 'call', 'on', 'MyEskom', 'Customer', 'App', 'https://t.co/99xBTCodMz', '', '.', 'The…', 'https://t.co/804JKColpR'], ['#InTheNews', ':', 'Three', 'caught', 'trying', 'to', 'steal', 'copper', 'cables', 'https://t.co/eA08tSLUkC', 'by', 'Roodepoort', 'Record\\n\\nReport', 'cable…', 'https://t.co/tnp7ORapw8'], ['#EskomEasternCape', '#MediaStatement\\n\\nUpdate:', 'Interruption', 'of', 'bulk', 'electricity', 'supply', 'to', 'Enoch', 'Mgijima', 'Local', 'Municipal…', 'https://t.co/3pzUZ4pNsx'], ['RT', '@ukinsouthafrica:', 'Today', 'we’re', 'visiting', 'Sere', 'Wind', 'farm,', '@Eskom_SA', 'large-scale', '#Renewable', 'energy', 'project', '&amp;', 'first', 'planned', 'site', 'for', '', '@Eskom_…'], ['#ESKOMFREESTATE', '#MEDIASTATEMENT', ':', 'ESKOM', 'SERVES', 'NOTICE', 'TO', 'STOP', 'PROVISION', 'OF', 'ELECTRICITY', 'SUPPLY', 'SERVICES', 'https://t.co/i2U2k87sUV'], ['Illegal', 'connections', 'are', 'a', 'major', 'issue.', '#Eskom', '+', 'municipalities', 'remove', 'illegal', 'connections', 'daily', 'but', 'they', 'are', 'reconn…', 'https://t.co/W7dwcFkxgP'], ['#ESKOMNORTHWEST', '#MEDIASTATEMENT', ':', 'NOTICE', 'OF', 'SUPPLY', 'INTERRUPTION', 'IN', 'LICHTENBURG', 'AREA', 'https://t.co/7HfWVxLliT'], ['Building', 'under', 'Eskom', 'power', 'lines', 'poses', 'a', 'serious', 'danger', 'to', 'the', 'members', 'of', 'the', 'community', 'and', 'is', 'not', 'permitted', 'as', 'hig…', 'https://t.co/MhKpi7lsKr'], ['#EskomEasternCape', 'Provincial', 'management', 'is', 'meeting', 'with', 'Contractors', 'regarding', 'issues', 'that', 'can', 'assist', 'in', 'achieving', 'i…', 'https://t.co/5PpLVxbRyL'], ['@Lacoste82554919', 'Please', 'report', 'your', 'issue', 'to', 'our', 'Customer', 'Services', 'Centre', 'via', 'one', 'of', 'the', 'following', 'channels', '0860037…', 'https://t.co/BXKkMr96kO'], ['@tsekiBL', 'Please', 'report', 'your', 'issue', 'to', 'our', 'Customer', 'Services', 'Centre', 'via', 'one', 'of', 'the', 'following', 'channels', '0860037566', '/', 'SM…', 'https://t.co/3vILkIp6bJ'], ['@shaun_crisp', 'Please', 'call', 'your', 'service', 'provider', 'if', 'experiencing', 'a', 'power', 'failure.', 'If', 'serviced', 'by', '#Eskom', 'call', '08600375…', 'https://t.co/IWCF6cIXdZ'], ['@Candi_man', '@Miziegee', '@CityPowerJhb', 'Please', 'call', 'your', 'service', 'provider', 'if', 'experiencing', 'a', 'power', 'failure.', 'If', 'serviced', 'b…', 'https://t.co/7w1PUzGKL7'], ['@Miziegee', 'Please', 'call', 'your', 'service', 'provider', 'if', 'experiencing', 'a', 'power', 'failure.', 'If', 'serviced', 'by', '#Eskom', 'call', '0860037566…', 'https://t.co/K4iQTO92t2'], ['RT', '@Exposcience:', '#MondayMotivation', 'Shaylyn', 'Dippen', 'from', 'Newcastle', 'High', 'School', 'has', 'been', 'awarded', 'a', 'bursary', 'from', '@Eskom_SA', 'at', '#EskomExpoISF.', 'Th…'], ['RT', '@Exposcience:', '#MondayMotivation', 'For', 'their', '#EskomExpoISF', 'project,', 'Mbavhalelo', 'Sidimela', '&amp;', 'Shifa', 'Ismail', 'from', 'Mbilwi', 'Secondary', 'aimed', 'to', 'assis…'], ['@Miziegee', '@CityPowerJhb', 'please', 'assist.'], ['What', 'to', 'do', '&amp;', 'what', 'to', 'look', 'for', 'when', 'experiencing', 'a', 'power', 'failure.', 'Details:', 'https://t.co/mAanpAEN8S'], ['#POWERALERT', '1\\nDate:', '25', 'November', '2019\\n\\nNo', 'loadshedding', 'expected', 'today,', 'despite', 'a', 'constrained', 'and', 'vulnerable', 'system', 'https://t.co/5ljKHQVDd4'], ['Overloading', 'plugs', 'can', 'lead', 'to', 'overheating', 'and', 'fires.', 'Last', 'year', 'we', 'lost', '117', 'lives', 'to', 'unsafe', 'electricity', 'use.…', 'https://t.co/cF5veipKQ5'], ['It', 'is', 'a', 'criminal', 'offence', 'to', 'break', 'or', '', 'steal', 'covers', 'of', 'meter', 'boxes,', 'sub-stations', 'or', 'other', 'Eskom', 'property.', '', 'Making', 'co…', 'https://t.co/osxQA34tiq'], ['@dalungstar', '@CityofJoburgZA', 'Please', 'report', 'to', 'Customer', 'Services', 'on', '08600', '37566'], ['@PelisaS', 'Please', 'report', 'to', 'Customer', 'Services', '', 'on', '08600', '37566'], ['Watch', 'and', 'Share:', 'Understanding', 'your', '#ElectricityCosts', 'https://t.co/9jbAqZ2yOg', 'by', '@mayaonmoney', '#moneymatters'], ['@2114f0aa68fb435', '@CityofJoburgZA', '@CityPowerJhb', 'Please', 'report', 'to', 'Customer', 'Services', 'on', '08600', '37566'], ['@d4zza', 'No', 'this', 'is', 'only', 'for', 'direct', 'Eskom', 'customers'], ['Register', 'on', 'our', 'Eskom', 'web', 'Site', 'or', 'on', 'our', 'Mobile', 'MyEskom', 'Customer', 'App', '(Available', 'in', 'the', 'IOS,', 'Windows', 'and', 'Android', 'App…', 'https://t.co/UBENddpOVn'], ['RT', '@CityPowerJhb:', 'REMINDER:', 'Please', 'be', 'reminded', 'of', 'a', 'planned', 'outage', 'in', 'Hillbrow', 'that', 'will', 'be', 'implemented', 'today', 'at', '8:00^BP', 'https://t.co/MrCDW…'], ['RT', '@CityPowerJhb:', 'UPDATE:', 'Distributor', 'supplying', '', 'Discovery', ',Georgina,', 'Creswell', 'Park,', 'Rand', 'Leases,', 'Hamberg', 'and', 'Florida', 'Lake', 'tripped.', 'Technic…'], ['#POWERALERT', '1\\nDate:', '24', 'November', '2019\\n\\nNo', 'loadshedding', 'expected', 'today,', 'despite', 'a', 'constrained', 'and', 'vulnerable', 'system', 'https://t.co/NwMbqLScFq'], ['@didintle_mmokwa', '@KholiweMotlham1', 'Have', 'you', 'reported', 'to', 'Customer', 'Services?', 'Do', 'you', 'have', 'a', 'reference', 'number?'], ['@WordsAlchemy', 'Please', 'report', 'to', 'Customer', 'Services', 'on', '08600', '37566'], ['@moitdheki', 'Please', 'report', 'to', 'Customer', 'Services', 'on', '08600', '37566'], ['What', 'to', 'do', '&amp;', 'what', 'to', 'look', 'for', 'when', 'experiencing', 'power', 'failure.', 'Details:', 'https://t.co/mAanpAEN8S'], ['@MiaPaulaRussell', 'Your', 'query', 'has', 'been', 'escalated', 'to', 'Customer', 'Services'], ['DYK', 'that', 'you', 'can', 'report', '#poweroutages', 'and', 'meter', 'error', 'codes', 'on', 'MyEskom', 'Customer', 'App', 'https://t.co/99xBTCodMz', '', '?', 'The…', 'https://t.co/KnpeOA1oLQ'], ['#ElectricitySafety:', 'Planning', 'on', 'doing', 'some', 'DIY', 'around', 'the', 'house', 'this', 'weekend??', 'Check', 'out', 'these', 'handy', 'tips', 'from…', 'https://t.co/IajUGp8kAe'], ['@LebohangKP', '@CityPowerJhb', 'Was', 'this', 'reported', 'to', 'Eskom?', 'If', 'not,', 'pls', 'call', '0860037566'], ['RT', '@Exposcience:', '#EskomExpoISF', 'Fatima', 'Kaka', 'from', 'Kismet', 'Combined’s', '“Magnetic', 'Turbulence”', 'project', 'was', 'successful', 'in', 'generating', 'electrical', 'ene…'], ['@Phezi_Mimi', 'Pls', 'forward', 'us', 'your', 'reference', 'number', 'and', 'we', 'will', 'follow-up'], ['#POWER', 'ALERT', '1\\n\\nDate:', '23', 'November', '2019\\n\\nNo', 'loadshedding', 'expected', 'today,', 'despite', 'a', 'constrained', 'and', 'vulnerable', 'system…', 'https://t.co/ZVx80qRENy'], ['@Daniel_P_Carey', 'Pls', 'DM', 'your', 'query', 'and', 'contact', 'details.'], ['Eskom', 'prepaid', 'customers', 'are', 'requested', 'to', 'direct', 'all', 'prepaid', 'queries', 'including', 'meter', 'error', 'codes', 'and', 'faults', 'to', 'Custo…', 'https://t.co/jO9Il3OYxi'], ['@Daniel_P_Carey', 'Pls', 'use', '', 'MyEskom', 'Customer', 'App', 'https://t.co/99xBTCodMz\\xa0', 'to', 'log', 'a', 'call.', 'The', 'system', 'will', 'provide', 'you', 'w…', 'https://t.co/BYZr1FYWkc'], ['@Brucee_011', 'DYK', 'that', 'you', 'can', 'report', '#poweroutages', 'on', 'MyEskom', 'Customer', 'App', 'https://t.co/99xBTCodMz\\xa0', '?', 'The', 'system', 'wil…', 'https://t.co/8s5VzalShm'], ['@CliffShiko', 'DYK', 'that', 'you', 'can', 'report', '#poweroutages', 'on', 'MyEskom', 'Customer', 'App', 'https://t.co/99xBTCodMz', '', '?', 'The', 'system', 'wil…', 'https://t.co/3Jexj914HT'], ['@Dwe_Zulu', '@denny49020249', '@CityofJoburgZA', 'Eskom', 'is', 'aware', 'that', 'some', '', 'customers', 'from', 'Kyalami', 'are', 'affected', 'by', 'a', 'cable', 'f…', 'https://t.co/id4Z4W1Js4'], ['@StoneCJenny', 'It', 'will', 'be', 'attended', 'today,', 'customer', 'reported', 'at', '20h57', 'last', 'night,', 'calls', 'logged', 'after', '8pm', 'are', 'generally…', 'https://t.co/Y2x9PKHiSy'], ['@sw0702', 'Ext?'], ['@Daniel_P_Carey', 'Lines', 'are', 'working', 'just', 'fine.', 'How', 'can', 'we', 'help', 'you?'], ['@CliffShiko', 'Hi,', 'did', 'you', 'log', 'a', 'call?', 'If', 'so,', 'please', 'forward', 'us', 'your', 'reference', 'number', 'and', 'we', 'will', 'follow-up'], ['@Kgothatso', 'Hi,', 'pls', 'call', '0860037566', 'to', 'log', 'a', 'call.'], ['@RutterGrant', 'No', 'eta', 'as', 'yet'], ['@RutterGrant', 'Barbeque', 'downs', 'has', 'a', 'cable', 'fault', 'which', 'has', '3', 'feeders', 'off.', 'Technicians', 'are', 'still', 'on', 'site', 'trying', 'to', 'fix', 'the', 'fault.'], ['@Jaxskaapie', '@ewnreporter', '@ewnupdates', 'Barbeque', 'downs', 'has', 'a', 'cable', 'fault', 'which', 'has', '3', 'feeders', 'off.', 'Technicians', 'are', 'stil…', 'https://t.co/NpbtYhfTZ2'], ['@KershenReddy', '@Jaxskaapie', '@ewnreporter', '@ewnupdates', 'Will', 'enquire', 'from', 'Customer', 'Services'], ['Prepaid', 'pricing', 'is', 'based', 'on', 'usage/', 'consumption', 'rate.', 'number', 'to', '35328', 'for', 'assistance.', 'For', 'comprehensive', 'information…', 'https://t.co/2bUgrMnd9q'], ['@lorelailette', 'Is', 'the', 'area', 'supplied', 'by', 'Eskom', 'or', '@City_Ekurhuleni', '?'], ['@RutterGrant', 'Is', 'your', 'power', 'still', 'off?'], ['@Jaxskaapie', '@ewnreporter', '@ewnupdates', 'Is', 'the', 'power', 'still', 'off?'], ['@jabzero51', '@MorningLiveSABC', '@SABCNewsOnline', '@SakinaKamwendo', '@AdvovoJr', 'Thank', 'you', 'for', 'the', 'alert.', '', 'Relevant', 'authorities', 'have', 'been', 'informed'], ['@MpholoTeboho', 'Report', 'your', 'power', 'outage', 'to', 'Customer', 'Services', 'on', '08600', '37566'], ['Before', 'leaving', 'the', 'office', 'this', 'afternoon,', '', 'heading', 'off', 'into', 'the', 'weekend,', 'remember', 'to', 'switch', 'off', 'lights', '&amp;', 'electrical…', 'https://t.co/AOsHfDIiLC'], ['Here', 'is', 'a', 'simple', 'explanation', 'to', 'help', 'you', 'understand', 'Eskom’s', 'prepaid', 'tariff', 'structure', 'for', 'residential', 'customers.', 'Mun…', 'https://t.co/pEDA6qy3xW'], ['Cable', 'theft', 'is', 'one', 'of', 'the', 'main', 'reasons', 'for', 'constant', 'power', 'outages.', 'Report', 'cable', 'theft', 'to', '@CrimeLineZA…', 'https://t.co/Oo0BBBXg2V'], ['@brox209', 'You', 'need', 'to', 'enquire', 'with', 'them,', 'as', 'Eskom', 'is', 'not', 'loadshedding'], ['RT', '@CityPowerJhb:', '#Update', 'Beyers', 'Naude', 'Gayfield', 'distributor', 'tripped', 'affecting', 'power', 'supply', 'in', 'Randparkrif', 'extensions', 'and', 'surroundings,', 'oper…'], ['#EskomLimpopo', 'Customers', 'in', 'the', 'Burgersfort', 'area', 'are', 'experiencing', 'electricity', 'supply', 'interruptions', 'due', 'to', 'a', 'fault', 'at…', 'https://t.co/AScFWes0X6'], ['@Oratile_Tshelo', '@CityTshwane', '@EFFSouthAfrica', '@TshwaneEff', 'Good', 'day,', 'pls', 'send', 'us', 'a', 'reference', 'number', 'so', 'that', 'we', 'can', 'fo…', 'https://t.co/WfAMk4ZmJr'], ['RT', '@Exposcience:', '#FridayFeeling', '#EskomExpoISF', 'Vuyo', 'Nzimande', 'from', 'Mangaung', 'Intermediate', 'School', 'in', 'Qwaqwa', 'incorporated', 'the', 'cultural', 'aspects', 'o…'], ['Exposed', 'electric', 'wires', 'is', 'a', 'number', 'one', 'cause', 'of', 'electrical', 'fire', 'hazards.', 'The', 'voltage', 'that', 'runs', 'through', 'homes', 'is', 'hig…', 'https://t.co/WaqvtphDYz'], ['@Cgebs1Colinda', 'Hi', 'Colinda,', 'please', 'confirm', 'area', 'and', 'province.'], ['#Eskom_NorthWest', 'Rustenburg', 'Sector', 'Update', 'https://t.co/qAsbPvMuFh'], ['@miss_moss', 'Hi,', 'please', 'call', 'the', 'call', 'centre', 'on', '0860037566'], ['@jabzero51', '@MorningLiveSABC', '@SABCNewsOnline', '@SakinaKamwendo', 'Thank', 'you', 'for', 'the', 'alert.', 'Please', 'report', 'to', 'Eskom', 'crime', 'l…', 'https://t.co/50UcirMl0D'], ['#POWERALERT', '1\\nDate:', '22', 'November', '2019\\n\\nNo', 'loadshedding', 'expected', 'today,', 'despite', 'a', 'constrained', 'and', 'vulnerable', 'system', 'https://t.co/pL3qkdRkV5'], ['To', 'register', 'a', 'pre-paid', 'meter,', 'visit', 'an', 'Eskom', 'office', 'with', 'the', 'ID', 'number', 'of', 'the', 'person', 'in', 'whose', 'name', 'the', 'meter', 'is', 'to…', 'https://t.co/ndhdlyeNm5'], ['Please', 'call', 'your', 'service', 'provider', 'if', 'experiencing', 'a', 'power', 'failure.', 'If', 'serviced', 'by', 'Eskom', 'call', '0860037566', '/', 'SMS', '35328…', 'https://t.co/qjh8HrNVmE'], ['@mzwandileMasina', 'https://t.co/Ek3kt248K5'], ['#DYK', 'that', 'it', 'can', 'be', 'easy', 'for', 'households', 'to', 'save', 'electricity', '(and', 'costs)', 'during', 'summer', 'as', 'well', 'as', 'minimize', 'the', 'risk…', 'https://t.co/gQry6bgILp'], ['#EskomLimpopo', '#MediaStatement\\n\\nALLDAYS', 'ELECTRICITY', 'SUPPLY', 'OUTAGE', 'https://t.co/eHkB3KMUdQ'], ['#EskomGauteng', 'partnered', 'with', 'the', 'Sedibeng', 'Disaster', 'Management', 'department', 'and', '@Rand_Water', '', 'to', 'create', 'safety', 'awarenes…', 'https://t.co/1giA1lGJbT'], ['Re-purposing', 'of', 'appliances', 'is', 'when', 'an', 'appliance', 'that', 'is', 'meant', 'for', 'one', 'use', 'is', 'changed', 'to', 'perform', 'an', 'alternative', 'task…', 'https://t.co/aH1Zqe1ARQ'], ['@moiponemoabi', 'Please', 'report', 'to', 'Customer', 'Services', 'on', '08600', '37566'], ['#SkaBaiza.', 'Low', 'hanging', 'and', 'fallen', 'cables', 'can', 'be', 'live', 'and', 'dangerous.', 'Never', 'touch', 'or', 'move', 'them!\\n\\nReport', 'these', 'to', 'Esko…', 'https://t.co/91kKFvAfuw'], ['@evxd', 'Please', 'note', 'that', 'this', 'notice', 'is', 'legit', 'and', 'has', 'been', 'served', 'on', 'the', 'municipality'], ['Being', '#energyefficient', 'in', 'the', 'office', 'is', 'simple', 'with', 'these', 'easy', 'tips.', '#UseElectricitySmartly', 'and', 'minimise', 'the', 'risk', 'o…', 'https://t.co/3hvScTcpvV'], ['#POWERALERT', '1\\nDate:', '21', 'November', '2019\\n\\nNo', 'loadshedding', 'expected', 'today,', 'despite', 'a', 'constrained', 'and', 'vulnerable', 'system', 'https://t.co/XgwdUh3ivD'], ['RT', '@CityPowerJhb:', 'UPDATE:', 'Beyers', 'Naude', 'Prince', 'distributor', 'tripped,', 'Causing', 'a', 'total', 'loss', 'of', 'supply', 'in', 'Windsor,Windsor', 'West', '&amp;', 'surrounds.', '', 'Tec…'], ['RT', '@CityPowerJhb:', '#update:', 'Distributor', 'supplying', 'Alexandra', 'Ext.5,Far', 'East', 'Bank', 'Ext.1', 'and', 'Marlboro', 'is', 'tripped.Technical', 'team', 'on', 'route', 'we', 'apo…'], ['RT', '@CityPowerJhb:', '#UPDATE', 'JG', 'Strydom', 'distributor', 'is', 'tripped', 'causing', 'total', 'loss', 'of', 'power', 'in', 'weltevredenpark', 'ext', 'and', 'surrounding.Technicians…'], ['Have', 'you', 'tried', 'the', '‘MyEskom', 'Customer', 'App’', 'https://t.co/k5uCB1kg9i?', 'Convenience', 'at', 'your', 'fingertips', 'to', 'report', 'power', 'o…', 'https://t.co/sPkv6neuvV'], ['#EskomNorthernCape', '', 'Contractor', 'Forum\\n\\nReiteration', 'of', 'Safety', 'and', 'Compliance', 'messaging', 'and', 'reflecting', 'on', 'the', 'past', 'yea…', 'https://t.co/BAmRYkzviX'], ['@Marumofase77', '@SABCNewsOnline', '@IOL', '@eNCA', '@ewnupdates', '@TheCitizen_News', '@News24', '@SAgovnews', '@AfricaNews24_7', 'Yes', 'the', 'nu…', 'https://t.co/MoN2rAK4QG'], ['#EskomKZN', 'hosted', 'an', 'information', 'sharing', 'session', 'with', 'KZN', 'Top', 'Customers.', 'It', 'was', 'an', 'opportunity', 'to', 'engage', 'meaningfull…', 'https://t.co/EGjrQa7GFM'], ['When', 'you', 'are', 'at', 'home,', 'you', 'spend', 'most', 'of', 'your', 'time', 'in', 'your', 'living', 'areas', 'and', 'bedrooms.', 'Many', '‘switch', 'off', '’', 'habits', 'and…', 'https://t.co/kmFCYbTsgI'], ['#ICYMI', 'FAKE', 'NEWS', 'ALERT', 'https://t.co/puFHTfLOEJ'], ['RT', '@Exposcience:', 'Why', 'waste', 'water?', 'Tshepang', 'Hlalele', '&amp;', 'Mbali', 'Masoka', 'from', 'Leseding', 'Technical', 'Secondary', 'School', 'investigated', 'the', 'amount', 'of', 'water…'], ['#EskomLimpopo', ':', '', 'Customers', 'in', '', 'Mantsole', 'area', 'are', 'experiencing', 'electricity', 'supply', 'interruptions', 'due', 'to', 'a', 'fault', 'on', 'th…', 'https://t.co/UEVSFPYizo'], ['RT', '@CityPowerJhb:', 'UPDATE:', 'RegionF\\n#HuddonPlannedOutage', 'Please', 'take', 'note', 'of', 'planned', 'power', 'interruption', 'on', 'Friday', '22', 'Nov', '2019', 'from', '08h00', 'unti…'], ['#PublicSafety:', 'Make', 'sure', 'that', 'you', 'and', 'your', 'family', 'know', 'how', 'to', 'work', 'with', 'electricity', 'safely', 'at', 'home…', 'https://t.co/adNN5us9Kn'], [\"Eskom's\", 'Visitors', 'Centres’', 'facilities', 'include', 'interactive', 'models', 'on', 'electricity', 'generation.', 'Presentations', 'are', 'tailor…', 'https://t.co/iwx5jhUBQP'], ['#Eskom', 'connected', '400', 'houses', 'and', 'in', 'the', 'process', 'of', 'connecting', '1700', 'more.\\n\\n#Eskom', '#PoweringYourWorld\\n\\n@David_Makhura…', 'https://t.co/RC9lT6okF8'], ['@ArthurGodbeer', 'Is', 'the', 'power', 'restored', 'as', 'yet?'], ['@MuthambiPaulina', '@SABCNewsOnline', '@IOL', '@eNCA', '@ewnupdates', '@TheCitizen_News', '@News24', '@SAgovnews', '@AfricaNews24_7', 'Is', 'the', 'power', 'restored', 'as', 'yet?'], ['RT', '@GP_DHS:', 'The', '@GautengProvince', 'made', 'a', 'commitment', 'to', 'electrify', 'the', 'area', 'in', 'order', 'to', 'avoid', 'any', 'harm', 'that', 'could', 'be', 'caused', 'by', 'illegal', 'connect…']]\n"
     ]
    }
   ],
   "source": [
    "n = []\n",
    "for index, row in twitter_df.iterrows():\n",
    "    a = (row['Tweets'].split(' '))\n",
    "    n.append(row['Tweets'].split(' '))\n",
    "    print(type(row['Tweets']))\n",
    "print(n)"
   ]
  },
  {
   "cell_type": "code",
   "execution_count": 0,
   "metadata": {
    "colab": {},
    "colab_type": "code",
    "id": "tmEE1Zu7IrPu"
   },
   "outputs": [],
   "source": [
    "def word_spliter(df):\n",
    "\n",
    "  ### Code Here\n",
    "\n",
    "  pass"
   ]
  },
  {
   "cell_type": "markdown",
   "metadata": {
    "colab_type": "text",
    "id": "BsCMKM0KKRsb"
   },
   "source": [
    "# Function 7: Stop Words & Link Remover\n",
    "\n",
    "Write a function which removes the stop words and the ur link from a tweet. The function should follow the criteria below:\n",
    "\n",
    "* Should remove stop words based on the dictionary provided below.\n",
    "* Should remove url's from the tweets. \n",
    "* The function will also need to tokenise thee sentence as indicated in function 6. Note: Function 6 may not be called within this function.\n",
    "* The column should be labelled as \"```Without Stop Words```\"\n",
    "<br>\n",
    "<br>\n",
    "\n",
    "```python \n",
    "stop_words_dict = {'stopwords':['where', 'done', 'if', 'before', 'll', 'very', 'keep', 'something', 'nothing', 'thereupon', 'may', 'why', '’s', 'therefore', 'you', 'with', 'towards', 'make', 'really', 'few', 'former', 'during', 'mine', 'do', 'would', 'of', 'off', 'six', 'yourself', 'becoming', 'through', 'seeming', 'hence', 'us', 'anywhere', 'regarding', 'whole', 'down', 'seem', 'whereas', 'to', 'their', 'various', 'thereafter', '‘d', 'above', 'put', 'sometime', 'moreover', 'whoever', 'although', 'at', 'four', 'each', 'among', 'whatever', 'any', 'anyhow', 'herein', 'become', 'last', 'between', 'still', 'was', 'almost', 'twelve', 'used', 'who', 'go', 'not', 'enough', 'well', '’ve', 'might', 'see', 'whose', 'everywhere', 'yourselves', 'across', 'myself', 'further', 'did', 'then', 'is', 'except', 'up', 'take', 'became', 'however', 'many', 'thence', 'onto', '‘m', 'my', 'own', 'must', 'wherein', 'elsewhere', 'behind', 'becomes', 'alone', 'due', 'being', 'neither', 'a', 'over', 'beside', 'fifteen', 'meanwhile', 'upon', 'next', 'forty', 'what', 'less', 'and', 'please', 'toward', 'about', 'below', 'hereafter', 'whether', 'yet', 'nor', 'against', 'whereupon', 'top', 'first', 'three', 'show', 'per', 'five', 'two', 'ourselves', 'whenever', 'get', 'thereby', 'noone', 'had', 'now', 'everyone', 'everything', 'nowhere', 'ca', 'though', 'least', 'so', 'both', 'otherwise', 'whereby', 'unless', 'somewhere', 'give', 'formerly', '’d', 'under', 'while', 'empty', 'doing', 'besides', 'thus', 'this', 'anyone', 'its', 'after', 'bottom', 'call', 'n’t', 'name', 'even', 'eleven', 'by', 'from', 'when', 'or', 'anyway', 'how', 'the', 'all', 'much', 'another', 'since', 'hundred', 'serious', '‘ve', 'ever', 'out', 'full', 'themselves', 'been', 'in', \"'d\", 'wherever', 'part', 'someone', 'therein', 'can', 'seemed', 'hereby', 'others', \"'s\", \"'re\", 'most', 'one', \"n't\", 'into', 'some', 'will', 'these', 'twenty', 'here', 'as', 'nobody', 'also', 'along', 'than', 'anything', 'he', 'there', 'does', 'we', '’ll', 'latterly', 'are', 'ten', 'hers', 'should', 'they', '‘s', 'either', 'am', 'be', 'perhaps', '’re', 'only', 'namely', 'sixty', 'made', \"'m\", 'always', 'those', 'have', 'again', 'her', 'once', 'ours', 'herself', 'else', 'has', 'nine', 'more', 'sometimes', 'your', 'yours', 'that', 'around', 'his', 'indeed', 'mostly', 'cannot', '‘ll', 'too', 'seems', '’m', 'himself', 'latter', 'whither', 'amount', 'other', 'nevertheless', 'whom', 'for', 'somehow', 'beforehand', 'just', 'an', 'beyond', 'amongst', 'none', \"'ve\", 'say', 'via', 'but', 'often', 're', 'our', 'because', 'rather', 'using', 'without', 'throughout', 'on', 'she', 'never', 'eight', 'no', 'hereupon', 'them', 'whereafter', 'quite', 'which', 'move', 'thru', 'until', 'afterwards', 'fifty', 'i', 'itself', 'n‘t', 'him', 'could', 'front', 'within', '‘re', 'back', 'such', 'already', 'several', 'side', 'whence', 'me', 'same', 'were', 'it', 'every', 'third', 'together']}\n",
    "```\n",
    "<br>\n",
    "<br>\n",
    "\n",
    "_**Expected Output**_:\n",
    "\n",
    "```python\n",
    "stop_words_http_remover(twitter_df)\n",
    "```\n",
    "\n",
    "![function7](https://github.com/RidhaMoosa/eskom_data-/blob/master/Function7.png?raw=true)"
   ]
  },
  {
   "cell_type": "code",
   "execution_count": 0,
   "metadata": {
    "colab": {},
    "colab_type": "code",
    "id": "A7IHGYFtW5HJ"
   },
   "outputs": [],
   "source": [
    "def stop_words_http_remover(df):\n",
    "\n",
    "  # Code Here\n",
    "\n",
    "  pass"
   ]
  }
 ],
 "metadata": {
  "colab": {
   "name": "Analyse_Functions_Student.ipynb",
   "provenance": []
  },
  "kernelspec": {
   "display_name": "Python 3",
   "language": "python",
   "name": "python3"
  },
  "language_info": {
   "codemirror_mode": {
    "name": "ipython",
    "version": 3
   },
   "file_extension": ".py",
   "mimetype": "text/x-python",
   "name": "python",
   "nbconvert_exporter": "python",
   "pygments_lexer": "ipython3",
   "version": "3.7.4"
  }
 },
 "nbformat": 4,
 "nbformat_minor": 1
}
